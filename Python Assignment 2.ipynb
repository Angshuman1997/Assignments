{
 "cells": [
  {
   "cell_type": "markdown",
   "metadata": {},
   "source": [
    "### Code 1\n",
    "Create the below pattern using nested for loop in Python."
   ]
  },
  {
   "cell_type": "code",
   "execution_count": 78,
   "metadata": {},
   "outputs": [
    {
     "data": {
      "image/png": "[encoded data removed]",
      "text/plain": [
       "<IPython.core.display.Image object>"
      ]
     },
     "execution_count": 78,
     "metadata": {},
     "output_type": "execute_result"
    }
   ],
   "source": [
    "from IPython.display import Image\n",
    "Image(r\"C:\\Users\\Angshuman Bardhan\\Desktop\\pp.png\")"
   ]
  },
  {
   "cell_type": "code",
   "execution_count": 71,
   "metadata": {},
   "outputs": [
    {
     "name": "stdout",
     "output_type": "stream",
     "text": [
      "Enter a number in range between 2 to 10 : 5\n",
      " \n",
      "* \n",
      "* * \n",
      "* * * \n",
      "* * * * \n",
      "* * * * * \n",
      "* * * * \n",
      "* * * \n",
      "* * \n",
      "* \n"
     ]
    }
   ],
   "source": [
    "# TYPE 1\n",
    "\n",
    "n=int(input('Enter a number in range between 2 to 10 : '))\n",
    "print(\" \")\n",
    "if n<=10:\n",
    "    l=['* '*i for i in range(1,n+1)]\n",
    "    d=l+l[:len(l)-1][::-1]\n",
    "    for j in d:\n",
    "        print(j)\n",
    "else:\n",
    "    print('You have entered a number not in range between 2 to 10, Sorry')"
   ]
  },
  {
   "cell_type": "code",
   "execution_count": 66,
   "metadata": {},
   "outputs": [
    {
     "name": "stdout",
     "output_type": "stream",
     "text": [
      "Enter a number in range between 2 to 10 : 5\n",
      " \n",
      "* \n",
      "* * \n",
      "* * * \n",
      "* * * * \n",
      "* * * * * \n",
      "* * * * \n",
      "* * * \n",
      "* * \n",
      "* \n",
      "\n"
     ]
    }
   ],
   "source": [
    "# TYPE 2\n",
    "\n",
    "n=int(input('Enter a number in range between 2 to 10 : '))\n",
    "print(\" \")\n",
    "if n<=10:\n",
    "    for i in range(0, n):\n",
    "        for j in range(0, i + 1):\n",
    "            print(\"*\", end=' ')\n",
    "        print(\"\\r\")\n",
    "\n",
    "    for i in range(n, 0, -1):\n",
    "        for j in range(0, i - 1):\n",
    "            print(\"*\", end=' ')\n",
    "        print(\"\\r\")\n",
    "else:\n",
    "    print('You have entered a number not in range between 2 to 10, Sorry')"
   ]
  },
  {
   "cell_type": "markdown",
   "metadata": {},
   "source": [
    "### Code 2\n",
    "Write a Python program to reverse a word after accepting the input from the user."
   ]
  },
  {
   "cell_type": "code",
   "execution_count": 75,
   "metadata": {},
   "outputs": [
    {
     "name": "stdout",
     "output_type": "stream",
     "text": [
      "Enter a word : ineuron\n",
      "OUTPUT :  norueni\n"
     ]
    }
   ],
   "source": [
    "print('OUTPUT : ',input('Enter a word : ')[::-1])"
   ]
  }
 ],
 "metadata": {
  "kernelspec": {
   "display_name": "Python 3",
   "language": "python",
   "name": "python3"
  },
  "language_info": {
   "codemirror_mode": {
    "name": "ipython",
    "version": 3
   },
   "file_extension": ".py",
   "mimetype": "text/x-python",
   "name": "python",
   "nbconvert_exporter": "python",
   "pygments_lexer": "ipython3",
   "version": "3.7.6"
  }
 },
 "nbformat": 4,
 "nbformat_minor": 4
}
