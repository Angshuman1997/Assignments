{
 "cells": [
  {
   "cell_type": "markdown",
   "metadata": {},
   "source": [
    "### Code 1\n",
    "Write a Python Program(with class concepts) to find the area of the triangle using the below  formula. \n",
    "\n",
    "Area = (s*(s-a)*(s-b)*(s-c)) ** 0.5.\n",
    "\n",
    "Function to take the length of the sides of triangle from user should be defined in the parent  class and function to calculate the area should be defined in subclass. "
   ]
  },
  {
   "cell_type": "code",
   "execution_count": 45,
   "metadata": {},
   "outputs": [
    {
     "name": "stdout",
     "output_type": "stream",
     "text": [
      "Enter three value: 2 3 4\n",
      "The area of the triangle is: 2.9047375096555625\n"
     ]
    }
   ],
   "source": [
    "import math\n",
    "class Parent:\n",
    "    def __init__(self, a, b, c):\n",
    "        self.a = a\n",
    "        self.b = b\n",
    "        self.c = c\n",
    "        self.s = (self.c+self.b+self.a)/2\n",
    "\n",
    "class Sub(Parent):\n",
    "    \n",
    "    def Cal(self):\n",
    "        area = math.sqrt(self.s*(self.s-self.a)*(self.s-self.b)*(self.s-self.c))\n",
    "        print(\"The area of the triangle is: {}\".format(area))\n",
    "\n",
    "\n",
    "if __name__ == \"__main__\":\n",
    "    a, b, c = [int(i) for i in input(\"Enter three value: \").split()]\n",
    "    p = Sub(a,b,c)\n",
    "    p.Cal()"
   ]
  },
  {
   "cell_type": "markdown",
   "metadata": {},
   "source": [
    "### Code 2\n",
    "Write a function filter_long_words() that takes a list of words and an integer n and returns the list of words that are longer than n."
   ]
  },
  {
   "cell_type": "code",
   "execution_count": 33,
   "metadata": {},
   "outputs": [
    {
     "name": "stdout",
     "output_type": "stream",
     "text": [
      "Enter a sentence with no symbol at end : My name is Angshuman Bardhan\n",
      "Enter a integer to check for long length words : 2\n",
      "List of words with longer length than  2  is  ['name', 'Angshuman', 'Bardhan']\n"
     ]
    }
   ],
   "source": [
    "def filter_long_words(list,n):\n",
    "    new=[]\n",
    "    for i in list:\n",
    "        if len(i)>n:\n",
    "            new.append(i)\n",
    "    return(new)\n",
    "l=input('Enter a sentence with no symbol at end : ').strip().split(' ')\n",
    "n=int(input('Enter a integer to check for long length words : '))\n",
    "if len(filter_long_words(l,n))==0:\n",
    "    print('No Words greater than the given interger number ',n)\n",
    "else:\n",
    "    print('List of words with longer length than ',n,\" is \",filter_long_words(l,n))"
   ]
  },
  {
   "cell_type": "markdown",
   "metadata": {},
   "source": [
    "### Code 3\n",
    "Write a Python program using function concept that maps list of words into a list of integers  representing the lengths of the corresponding words. \n",
    "\n",
    "Hint: If a list [ ab,cde,erty] is passed on to the python function output should come as [2,3,4] Here 2,3 and 4 are the lengths of the words in the list. "
   ]
  },
  {
   "cell_type": "code",
   "execution_count": 50,
   "metadata": {},
   "outputs": [
    {
     "name": "stdout",
     "output_type": "stream",
     "text": [
      "Enter a multiple value: Python is truly a wonderful language\n",
      "[6, 2, 5, 1, 9, 8]\n"
     ]
    }
   ],
   "source": [
    "def integer(l):\n",
    "    new=[]\n",
    "    for i in l:\n",
    "        new.append(len(i))\n",
    "    return(new)\n",
    "print(integer(list(map(str, input(\"Enter a multiple value: \").split()))))"
   ]
  },
  {
   "cell_type": "markdown",
   "metadata": {},
   "source": [
    "### Code 4\n",
    "Write a Python function which takes a character (i.e. a string of length 1) and returns True if  it is a vowel, False otherwise."
   ]
  },
  {
   "cell_type": "code",
   "execution_count": 53,
   "metadata": {},
   "outputs": [
    {
     "name": "stdout",
     "output_type": "stream",
     "text": [
      "Enter a word: Geometry\n",
      "G  is not a vowel, False\n",
      "e  is a vowel, True\n",
      "o  is a vowel, True\n",
      "m  is not a vowel, False\n",
      "e  is a vowel, True\n",
      "t  is not a vowel, False\n",
      "r  is not a vowel, False\n",
      "y  is not a vowel, False\n"
     ]
    }
   ],
   "source": [
    "def vowel(i):\n",
    "    if i.lower() in [x for x in ['a','e','i','o','u']]:\n",
    "        res= True\n",
    "    else:\n",
    "        res=False\n",
    "    return(res)  \n",
    "\n",
    "s=input('Enter a word: ')\n",
    "for i in s:\n",
    "    if vowel(i)==True:\n",
    "        print(i,\" is a vowel, True\")\n",
    "    else:\n",
    "        print(i,\" is not a vowel, False\")\n"
   ]
  },
  {
   "cell_type": "code",
   "execution_count": null,
   "metadata": {},
   "outputs": [],
   "source": []
  }
 ],
 "metadata": {
  "kernelspec": {
   "display_name": "Python 3",
   "language": "python",
   "name": "python3"
  },
  "language_info": {
   "codemirror_mode": {
    "name": "ipython",
    "version": 3
   },
   "file_extension": ".py",
   "mimetype": "text/x-python",
   "name": "python",
   "nbconvert_exporter": "python",
   "pygments_lexer": "ipython3",
   "version": "3.8.5"
  }
 },
 "nbformat": 4,
 "nbformat_minor": 4
}
